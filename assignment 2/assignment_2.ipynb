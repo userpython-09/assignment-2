{
 "cells": [
  {
   "cell_type": "markdown",
   "id": "af3a16e9-3343-497d-a98b-d64d9e34882f",
   "metadata": {},
   "source": [
    "QUESTION 1"
   ]
  },
  {
   "cell_type": "markdown",
   "id": "a34a58f6-06b2-439d-852c-3b26e77b740e",
   "metadata": {},
   "source": [
    "THERE ARE TWO TYPES OF COMMENTS   \n",
    "SINGLE LINE COMMENTS : THEY ARE GIVEN BY USING '#' SYMBOL.   \n",
    "MULTILINE COMMENTS : THEY ARE GIVEN BY USING ''' OR \"\"\" .\n",
    "THE COMMENTS ARE NOT DISPLAYED IN THE OUTPUT."
   ]
  },
  {
   "cell_type": "code",
   "execution_count": 9,
   "id": "10a102e0-02b3-49b5-8c12-ee9a680a1090",
   "metadata": {},
   "outputs": [
    {
     "name": "stdout",
     "output_type": "stream",
     "text": [
      "ajay\n"
     ]
    }
   ],
   "source": [
    "#THIS IS THE EXAMPLE OF SINGLE LINE COMMENT .\n",
    "\"\"\"\n",
    "THIS IS THE EXAMPLE OF \n",
    "MULTI LINE COMMENT\n",
    "\"\"\"\n",
    "print(\"ajay\")"
   ]
  },
  {
   "cell_type": "markdown",
   "id": "07365865-ba74-4956-a472-a79b9ac3f363",
   "metadata": {},
   "source": [
    "QUESTION 2"
   ]
  },
  {
   "cell_type": "markdown",
   "id": "c6a34dd7-9ded-4364-8415-3b06840cbaec",
   "metadata": {},
   "source": [
    "VARIABLES ARE THE CONTAINERS.THEY ARE USED TO STORE VALUES.VARIABLE ARE CREATED WHEN WE FIRST ASSIGN VALUES TO THEM."
   ]
  },
  {
   "cell_type": "code",
   "execution_count": 11,
   "id": "7fb87378-3274-4ad5-aa50-42016a6e2f24",
   "metadata": {},
   "outputs": [
    {
     "name": "stdout",
     "output_type": "stream",
     "text": [
      "683\n"
     ]
    }
   ],
   "source": [
    "a = 5\n",
    "b = 678\n",
    "print(a+b)"
   ]
  },
  {
   "cell_type": "markdown",
   "id": "0096be98-e258-4f76-9b21-7dfc40a036fd",
   "metadata": {},
   "source": [
    "QUESTION 3"
   ]
  },
  {
   "cell_type": "markdown",
   "id": "0109827e-31d1-4dfd-9cbf-3f6ea9a8a9af",
   "metadata": {},
   "source": [
    "WE CAN CONVERT ONE DATA TYPE TO ANOTHER DATA TYPE BY USING TYPE CONVERSION."
   ]
  },
  {
   "cell_type": "code",
   "execution_count": 16,
   "id": "7776bcfc-1259-4506-ad80-6994d90d7ca5",
   "metadata": {},
   "outputs": [
    {
     "name": "stdout",
     "output_type": "stream",
     "text": [
      "HERE INTEGER IS CONVERTED INTO FLOAT DATA TYPE.  5.0\n",
      "HERE INTEGER IS CONVERTED INTO STRING DATA TYPE.  5\n"
     ]
    }
   ],
   "source": [
    "print(\"HERE INTEGER IS CONVERTED INTO FLOAT DATA TYPE. \",float(a))\n",
    "print(\"HERE INTEGER IS CONVERTED INTO STRING DATA TYPE. \",str(a))\n"
   ]
  },
  {
   "cell_type": "markdown",
   "id": "86312347-1cf1-4a9d-bb47-f2af7efc7d09",
   "metadata": {},
   "source": [
    "QUESTION 4"
   ]
  },
  {
   "cell_type": "markdown",
   "id": "49b30938-fa84-4acc-9138-833a9c56742a",
   "metadata": {},
   "source": [
    "WE CAN WRITE PYTHON SCRIPTS IN COMMAND LINE BY FIRST TYPING PYTHON 3 IN THE TERMINAL AND THEN PRESSING ENTER."
   ]
  },
  {
   "cell_type": "markdown",
   "id": "e10f72d3-ec4e-46a8-8f3f-25c8d9c137b6",
   "metadata": {},
   "source": [
    "QUESTION 5"
   ]
  },
  {
   "cell_type": "code",
   "execution_count": 18,
   "id": "05c7c9a6-85b5-4e88-8a3b-06583f4899a2",
   "metadata": {},
   "outputs": [
    {
     "name": "stdout",
     "output_type": "stream",
     "text": [
      "[2, 3]\n"
     ]
    }
   ],
   "source": [
    "my_list = [1,2,3,4,5]\n",
    "sub_list = my_list[1:3]\n",
    "print(sub_list)"
   ]
  },
  {
   "cell_type": "markdown",
   "id": "bb280999-d1b7-4bdf-94ed-098607f4b65b",
   "metadata": {},
   "source": [
    "QUESTION 6"
   ]
  },
  {
   "cell_type": "markdown",
   "id": "19b7bc55-e18a-4a5b-8715-5df210a1c46b",
   "metadata": {},
   "source": [
    "IN MATHEMATICS THE NUMBERS WHICH CAN BE EXPRESSED IN THE FORM OF A+Bi ARE CALLED COMPLEX NUMBERS . \n",
    "IN PYTHON WE USE j INSTEAD OF i."
   ]
  },
  {
   "cell_type": "code",
   "execution_count": 19,
   "id": "dce92b0b-6818-4605-8dd3-312771e42b05",
   "metadata": {},
   "outputs": [
    {
     "name": "stdout",
     "output_type": "stream",
     "text": [
      "<class 'complex'>\n"
     ]
    }
   ],
   "source": [
    "complex_number = 1+3j\n",
    "print(type(complex_number))"
   ]
  },
  {
   "cell_type": "markdown",
   "id": "144c4f93-6bc9-4c93-aa22-826f8b040973",
   "metadata": {},
   "source": [
    "QUESTION 7\n"
   ]
  },
  {
   "cell_type": "code",
   "execution_count": 20,
   "id": "3dbe8dab-3af4-47fb-8bfa-2a062cd4a036",
   "metadata": {},
   "outputs": [
    {
     "name": "stdout",
     "output_type": "stream",
     "text": [
      "25\n"
     ]
    }
   ],
   "source": [
    "age = 25\n",
    "print(age)"
   ]
  },
  {
   "cell_type": "markdown",
   "id": "2ae47bdc-e22a-46f4-bc1f-b61be716e8e2",
   "metadata": {},
   "source": [
    "QUESTION 8"
   ]
  },
  {
   "cell_type": "code",
   "execution_count": 21,
   "id": "30ed5b2f-3f5d-479a-a8db-af03a0a6f3c5",
   "metadata": {},
   "outputs": [
    {
     "name": "stdout",
     "output_type": "stream",
     "text": [
      "<class 'float'>\n"
     ]
    }
   ],
   "source": [
    "price = 9.99\n",
    "print(type(price))"
   ]
  },
  {
   "cell_type": "markdown",
   "id": "9c0215ee-82b7-481a-a98e-bd9aabb47808",
   "metadata": {},
   "source": [
    "QUESTION 9"
   ]
  },
  {
   "cell_type": "code",
   "execution_count": 22,
   "id": "612088e8-e7a7-4cd3-b680-08b18b059a09",
   "metadata": {},
   "outputs": [
    {
     "name": "stdout",
     "output_type": "stream",
     "text": [
      "Ajay Srinivas\n"
     ]
    }
   ],
   "source": [
    "name = \"Ajay Srinivas\"\n",
    "print(name)"
   ]
  },
  {
   "cell_type": "markdown",
   "id": "25d59a20-bcf2-4a62-940d-22f2b65abab3",
   "metadata": {},
   "source": [
    "QUESTION 10"
   ]
  },
  {
   "cell_type": "code",
   "execution_count": 24,
   "id": "7bf8d9b3-5c33-46a1-bf02-37672f52e3fd",
   "metadata": {},
   "outputs": [
    {
     "name": "stdout",
     "output_type": "stream",
     "text": [
      "World\n"
     ]
    }
   ],
   "source": [
    "str_1=\"Hello,World!\"\n",
    "print(str_1[6:-1])"
   ]
  },
  {
   "cell_type": "markdown",
   "id": "1eb661b9-5fc7-4c3f-8b44-288cfdfb7462",
   "metadata": {},
   "source": [
    "QUESTION 11"
   ]
  },
  {
   "cell_type": "code",
   "execution_count": 25,
   "id": "7b280722-df7e-481f-bf73-e5b35b30141a",
   "metadata": {},
   "outputs": [
    {
     "name": "stdout",
     "output_type": "stream",
     "text": [
      "True\n"
     ]
    }
   ],
   "source": [
    "is_student=True\n",
    "print(is_student)"
   ]
  },
  {
   "cell_type": "code",
   "execution_count": null,
   "id": "15187496-e7f6-443a-9dd5-19b9d4288335",
   "metadata": {},
   "outputs": [],
   "source": []
  }
 ],
 "metadata": {
  "kernelspec": {
   "display_name": "Python 3 (ipykernel)",
   "language": "python",
   "name": "python3"
  },
  "language_info": {
   "codemirror_mode": {
    "name": "ipython",
    "version": 3
   },
   "file_extension": ".py",
   "mimetype": "text/x-python",
   "name": "python",
   "nbconvert_exporter": "python",
   "pygments_lexer": "ipython3",
   "version": "3.10.8"
  }
 },
 "nbformat": 4,
 "nbformat_minor": 5
}
